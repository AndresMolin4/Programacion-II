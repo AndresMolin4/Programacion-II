{
  "cells": [
    {
      "cell_type": "markdown",
      "metadata": {
        "id": "g-qSxhERcX2x"
      },
      "source": [
        "<h1><center><b>Introducción a Java</b></center></h1>\n",
        "\n",
        "---\n"
      ]
    },
    {
      "cell_type": "code",
      "source": [
        "%%sh\n",
        "# Install java kernel\n",
        "wget -q https://github.com/SpencerPark/IJava/releases/download/v1.3.0/ijava-1.3.0.zip\n",
        "unzip -q ijava-1.3.0.zip\n",
        "python install.py\n",
        "\n",
        "# Install proxy for the java kernel\n",
        "wget -qO- https://gist.github.com/SpencerPark/e2732061ad19c1afa4a33a58cb8f18a9/archive/b6cff2bf09b6832344e576ea1e4731f0fb3df10c.tar.gz | tar xvz --strip-components=1\n",
        "python install_ipc_proxy_kernel.py --kernel=java --implementation=ipc_proxy_kernel.py"
      ],
      "metadata": {
        "id": "27lve0_s17tK",
        "outputId": "908fec6f-b1fd-47aa-9b82-cd254040f085",
        "colab": {
          "base_uri": "https://localhost:8080/"
        }
      },
      "execution_count": 1,
      "outputs": [
        {
          "output_type": "stream",
          "name": "stdout",
          "text": [
            "Installed java kernel into \"/usr/local/share/jupyter/kernels/java\"\n",
            "e2732061ad19c1afa4a33a58cb8f18a9-b6cff2bf09b6832344e576ea1e4731f0fb3df10c/install_ipc_proxy_kernel.py\n",
            "e2732061ad19c1afa4a33a58cb8f18a9-b6cff2bf09b6832344e576ea1e4731f0fb3df10c/ipc_proxy_kernel.py\n",
            "Moving java kernel from /usr/local/share/jupyter/kernels/java...\n",
            "Wrote modified kernel.json for java_tcp in /usr/local/share/jupyter/kernels/java_tcp/kernel.json\n",
            "Installing the proxy kernel in place of java in /usr/local/share/jupyter/kernels/java\n",
            "Installed proxy kernelspec: {\"argv\": [\"/usr/bin/python3\", \"/usr/local/share/jupyter/kernels/java/ipc_proxy_kernel.py\", \"{connection_file}\", \"--kernel=java_tcp\"], \"env\": {}, \"display_name\": \"Java\", \"language\": \"java\", \"interrupt_mode\": \"message\", \"metadata\": {}}\n",
            "Proxy kernel installed. Go to 'Runtime > Change runtime type' and select 'java'\n"
          ]
        },
        {
          "output_type": "stream",
          "name": "stderr",
          "text": [
            "/content/install.py:164: DeprecationWarning: replace is ignored. Installing a kernelspec always replaces an existing installation\n",
            "  install_dest = KernelSpecManager().install_kernel_spec(\n"
          ]
        }
      ]
    },
    {
      "cell_type": "markdown",
      "metadata": {
        "id": "rKnpBzOUcX2y"
      },
      "source": [
        "**Table of contents**<a id='toc0_'></a>    \n",
        "- [Objetivo](#toc1_1_)    \n",
        "  - [Atributos, Métodos y Visibilidad](#toc1_2_)    \n",
        "  - [Clases y Objetos](#toc1_3_)    \n",
        "      - [**Clases**](#toc1_3_1_1_)    \n",
        "      - [**Objetos**](#toc1_3_1_2_)    \n",
        "  - [Metodología de la POO](#toc1_4_)    \n",
        "    - [**Abstracción**](#toc1_4_1_)    \n",
        "    - [**Herencia**](#toc1_4_3_)    \n",
        "    - [**Polimorfismo**](#toc1_4_4_)    \n",
        "    - [**Encapsulamiento**](#toc1_4_2_)\n",
        "  - [Ejemplos Prácticos y Ejercicios](#toc1_5_)    \n",
        "  - [Referencias](#toc1_6_)    \n",
        "      - [Guías y Tutoriales](#toc1_6_1_1_)    \n",
        "      - [Libros](#toc1_6_1_2_)    \n",
        "      - [Repositorios](#toc1_6_1_3_)    \n",
        "      - [Videos](#toc1_6_1_4_)    \n",
        "\n",
        "<!-- vscode-jupyter-toc-config\n",
        "  numbering=false\n",
        "  anchor=true\n",
        "  flat=false\n",
        "  minLevel=1\n",
        "  maxLevel=6\n",
        "  /vscode-jupyter-toc-config -->\n",
        "<!-- THIS CELL WILL BE REPLACED ON TOC UPDATE. DO NOT WRITE YOUR TEXT IN THIS CELL -->\n",
        "\n",
        "---"
      ]
    },
    {
      "cell_type": "code",
      "source": [
        "%%sh\n",
        "# Install java kernel\n",
        "wget -q https://github.com/SpencerPark/IJava/releases/download/v1.3.0/ijava-1.3.0.zip\n",
        "unzip -q ijava-1.3.0.zip\n",
        "python install.py\n",
        "\n",
        "# Install proxy for the java kernel\n",
        "wget -qO- https://gist.github.com/SpencerPark/e2732061ad19c1afa4a33a58cb8f18a9/archive/b6cff2bf09b6832344e576ea1e4731f0fb3df10c.tar.gz | tar xvz --strip-components=1\n",
        "python install_ipc_proxy_kernel.py --kernel=java --implementation=ipc_proxy_kernel.py"
      ],
      "metadata": {
        "id": "1c6rlV8Mfzrl"
      },
      "execution_count": null,
      "outputs": []
    },
    {
      "cell_type": "markdown",
      "metadata": {
        "id": "SxAbL6R3cX2z"
      },
      "source": [
        "<a href=\"https://colab.research.google.com/github/uETITC/ProgrammingII-2024-2/blob/main/Lessons/2.%20OOP_Fundamentals_Plantilla.ipynb\" target=\"_parent\"><img src=\"https://colab.research.google.com/assets/colab-badge.svg\" alt=\"Open In Colab\"/></a>\n",
        "\n",
        "La Programación Orientada a Objetos (POO) es un paradigma de programación que utiliza \"objetos\" para modelar datos y comportamientos del mundo real. Cada objeto es una instancia de una \"clase\", que define las propiedades (atributos) y las acciones (métodos) que el objeto puede realizar.\n",
        "\n",
        "- **Concepto:**  \n",
        "  En POO, el software se diseña y organiza en torno a \"objetos\", que pueden ser físicos o conceptuales. Este enfoque es diferente al paradigma de programación estructurada, donde el enfoque principal son las funciones o procedimientos.\n",
        "\n",
        "- **Metodología:**  \n",
        "  La POO se basa en cuatro pilares fundamentales:\n",
        "  - **Herencia:** Permite que una clase (subclase) herede atributos y métodos de otra clase (superclase).\n",
        "  - **Polimorfismo:** Habilidad de los objetos de diferentes clases para responder al mismo mensaje o método de formas distintas.\n",
        "  - **Abstracción:** Proceso de ocultar detalles complejos y mostrar solo los esenciales.\n",
        "  - **Encapsulamiento:** Agrupar datos y métodos que operan sobre esos datos en una sola unidad (clase) y protegerlos del acceso externo.\n",
        "  \n",
        "\n",
        "<center>\n",
        "<img src=\"https://lh6.googleusercontent.com/yPsibbUh1aHOvi0U3-wtdlNpWWutbyYULv1PLkx0QlOOq81DiXVvPgvKVrtY7Ef1yZF5NLabXrHBjHL80lx9hTqR_64jGRFZdbR9FIs4LDR9RcEn1M9LX_D5i4fYKR4vNZA-dZ9R\" width=60% align=\"center\">\n",
        "</center>\n",
        "\n",
        "Imagen tomada de [Why Object-Oriented Programming Matters](https://www.apollotechnical.com/why-object-oriented-programming-matters/?external_link=true).\n",
        "\n",
        "## <a id='toc1_1_'></a>[Objetivo](#toc0_)\n",
        "\n",
        "El objetivo de esta clase es proporcionar a los estudiantes una comprensión sólida de los fundamentos de la Programación Orientada a Objetos (POO) en Java. A través de esta lección, los estudiantes aprenderán a aplicar los principios de la POO, como la abstracción, encapsulamiento, herencia, y polimorfismo, para diseñar y construir programas modulares, reutilizables y fáciles de mantener. Además, se espera que los estudiantes sean capaces de crear clases y objetos en Java, entendiendo cómo definir atributos, métodos y gestionar la visibilidad de estos componentes para asegurar una correcta encapsulación y protección del estado interno de los objetos. Finalmente, los estudiantes serán capaces de implementar jerarquías de clases que utilicen la herencia y el polimorfismo, maximizando la reutilización de código y la flexibilidad en el diseño de software."
      ]
    },
    {
      "cell_type": "markdown",
      "metadata": {
        "id": "Mrg0FjwucX2z"
      },
      "source": [
        "## <a id='toc1_2_'></a>[Atributos, Métodos y Visibilidad](#toc0_)\n",
        "- **Atributos:**  \n",
        "  Los atributos son las variables que pertenecen a una clase. Representan las propiedades o características del objeto. En Java, los atributos suelen declararse como variables de instancia."
      ]
    },
    {
      "cell_type": "code",
      "execution_count": null,
      "metadata": {
        "vscode": {
          "languageId": "java"
        },
        "id": "6nLPpw6pcX20",
        "outputId": "b69a83b8-4fda-4676-dc07-feb3a1718a30",
        "colab": {
          "base_uri": "https://localhost:8080/"
        }
      },
      "outputs": [
        {
          "output_type": "stream",
          "name": "stdout",
          "text": [
            "28.0\n",
            "31.0\n"
          ]
        }
      ],
      "source": [
        "public class Persona {\n",
        "    public String nombre;\n",
        "    private int edad=28;\n",
        "    public double peso = 62.23;\n",
        "    public String genero;\n",
        "    public String color_piel;\n",
        "\n",
        "    // Agrega tres atributos de diferente tipo (float, char, etc)\n",
        "\n",
        "    public double getEdad(){\n",
        "\n",
        "    return edad;\n",
        "    }\n",
        "\n",
        "    public void setEdad(int edad){\n",
        "\n",
        "      this.edad=edad;\n",
        "    }\n",
        "}\n",
        "\n",
        "Persona andres = new Persona();\n",
        "//andres.peso;\n",
        "andres.getEdad();\n",
        "System.out.println(andres.getEdad());\n",
        "\n",
        "\n",
        "andres.setEdad(31);\n",
        "System.out.println(andres.getEdad());\n",
        "\n",
        "\n",
        "\n",
        "// Define la clase con tu nombre e imprime los atributos, ¿se pueden imprimir todos?\n",
        "\n",
        "\n",
        "// Da un valor a los atributos e imprimelos\n"
      ]
    },
    {
      "cell_type": "markdown",
      "metadata": {
        "id": "2wP6glcHcX20"
      },
      "source": [
        "- **Métodos:**  \n",
        "  Los métodos son funciones que pertenecen a una clase y definen el comportamiento de los objetos. Los métodos pueden acceder y modificar los atributos de la clase."
      ]
    },
    {
      "cell_type": "code",
      "execution_count": null,
      "metadata": {
        "vscode": {
          "languageId": "java"
        },
        "id": "m92745FRcX21",
        "outputId": "0ff5ca8c-263e-4d7d-c152-aadd91f3ff3c",
        "colab": {
          "base_uri": "https://localhost:8080/"
        }
      },
      "outputs": [
        {
          "output_type": "stream",
          "name": "stdout",
          "text": [
            "Andres Molina\n",
            "0.0\n",
            "31.0\n"
          ]
        }
      ],
      "source": [
        "public class Persona {\n",
        "    private String nombre=\"Andres Molina\";\n",
        "    private int edad=28;\n",
        "    public double peso = 62.23;\n",
        "    public String genero;\n",
        "    public String color_piel;\n",
        "\n",
        "    public void setNombre(String nombre) {\n",
        "        this.nombre = nombre;\n",
        "    }\n",
        "\n",
        "    public String getNombre() {\n",
        "        return nombre;\n",
        "    }\n",
        "\n",
        "        public double getEdad(){\n",
        "\n",
        "    return edad;\n",
        "    }\n",
        "\n",
        "    public void setEdad(int edad){\n",
        "\n",
        "      this.edad=edad;\n",
        "    }\n",
        "}\n",
        "\n",
        "Persona andres = new Persona();\n",
        "andres.getNombre();\n",
        "System.out.println(andres.getNombre());\n",
        "andres.getEdad();\n",
        "System.out.println(andres.getEdad());\n",
        "\n",
        "\n",
        "andres.setEdad(31);\n",
        "System.out.println(andres.getEdad());\n",
        "\n",
        "    // Agrega un método que imprima el nombre y la edad\n",
        "\n",
        "\n",
        "\n",
        "// Crea el objeto con tu nombre y prueba los tres métodos\n",
        "\n"
      ]
    },
    {
      "cell_type": "markdown",
      "metadata": {
        "id": "KUfH8S0PcX21"
      },
      "source": [
        "- **Visibilidad:**  \n",
        "  La visibilidad define quién puede acceder a los atributos y métodos de una clase. En Java, se usan los modificadores de acceso:\n",
        "  - **`private`:** Solo accesible dentro de la misma clase.\n",
        "  - **`protected`:** Accesible dentro de la misma clase, subclases y el mismo paquete.\n",
        "  - **`public`:** Accesible desde cualquier parte del programa.\n",
        "  - **`default` (sin modificador):** Accesible dentro del mismo paquete."
      ]
    },
    {
      "cell_type": "code",
      "execution_count": null,
      "metadata": {
        "vscode": {
          "languageId": "java"
        },
        "id": "kg873SQocX21"
      },
      "outputs": [],
      "source": [
        "public class Persona {\n",
        "    private String nombre; // Atributo privado\n",
        "    public void setNombre(String nombre) { // Método público\n",
        "        this.nombre = nombre;\n",
        "    }\n",
        "    // Agrega otro método que retorne el nombre\n",
        "\n",
        "}\n",
        "\n",
        "// Define un objeto de la clase Persona y ejecuta el método setNombre, ¡hace falta algo?\n"
      ]
    },
    {
      "cell_type": "markdown",
      "metadata": {
        "id": "fLOYMhy8cX21"
      },
      "source": [
        "## <a id='toc1_3_'></a>[Clases y Objetos](#toc0_)\n",
        "\n",
        "#### <a id='toc1_3_1_1_'></a>[**Clases**](#toc0_)\n",
        "\n",
        "Una clase es una plantilla o un modelo que define un conjunto de atributos y métodos comunes a todos los objetos que pertenecen a esa clase. En esencia, una clase describe las propiedades y comportamientos que sus objetos asociados tendrán. Es la definición abstracta del concepto que se desea modelar.\n"
      ]
    },
    {
      "cell_type": "code",
      "execution_count": null,
      "metadata": {
        "vscode": {
          "languageId": "java"
        },
        "id": "qvie9ghFcX21",
        "outputId": "0b783df5-0db4-4c33-f672-82e067dbd7a8",
        "colab": {
          "base_uri": "https://localhost:8080/"
        }
      },
      "outputs": [
        {
          "output_type": "stream",
          "name": "stdout",
          "text": [
            "Nombre: Andres, Edad: 27, Es rasta: true\n"
          ]
        }
      ],
      "source": [
        "  public class Persona {\n",
        "      private String nombre;\n",
        "      private int edad;\n",
        "      public boolean es_rasta;\n",
        "      // Agrega 3 atributos más de diferente tipo de variable\n",
        "\n",
        "      // Constructor\n",
        "      public Persona(String nombre, int edad, boolean es_rasta) {\n",
        "          this.nombre = nombre;\n",
        "          this.edad = edad;\n",
        "          this.es_rasta = es_rasta;\n",
        "          // Modifica el constructor y agrega los tres atributos que se definieron anteriormente\n",
        "      }\n",
        "\n",
        "      // Métodos\n",
        "      public void mostrarInformacion() {\n",
        "          System.out.println(\"Nombre: \" + nombre + \", Edad: \" + edad +\", Es rasta: \" +es_rasta );\n",
        "          //System.out.println(\"el nombre es: %s , Edad: %)\n",
        "          // Modifica este método y agrega los atributos que agregaste\n",
        "      }\n",
        "  }\n",
        "\n",
        "Persona andres = new Persona(\"Andres\",27, true);\n",
        "\n",
        "andres.mostrarInformacion();\n",
        "\n",
        "\n",
        "// Crea un objeto de la clase Persona y prueba el constructor\n",
        "\n",
        "// Llama el método que muestra toda la información de la persona\n"
      ]
    },
    {
      "cell_type": "markdown",
      "metadata": {
        "id": "EuIlhEvPcX22"
      },
      "source": [
        "  En este ejemplo, `Persona` es una clase que define dos atributos (`nombre` y `edad`) y un método (`mostrarInformacion`). Esta clase es una abstracción de lo que significa ser una persona en el contexto del programa."
      ]
    },
    {
      "cell_type": "markdown",
      "metadata": {
        "id": "FQSfJ-ntcX22"
      },
      "source": [
        "#### <a id='toc1_3_1_2_'></a>[**Objetos**](#toc0_)\n",
        "\n",
        "Un objeto es una instancia de una clase. Cuando se crea un objeto, se reserva memoria para almacenar sus atributos, y el objeto puede utilizar los métodos definidos en su clase. Cada objeto tiene su propio estado independiente, determinado por los valores de sus atributos."
      ]
    },
    {
      "cell_type": "code",
      "execution_count": null,
      "metadata": {
        "vscode": {
          "languageId": "java"
        },
        "id": "2VMOBJHccX22"
      },
      "outputs": [],
      "source": []
    },
    {
      "cell_type": "markdown",
      "metadata": {
        "id": "jbbG72IQcX22"
      },
      "source": [
        "En este fragmento de código, `persona1` y `persona2` son objetos de la clase `Persona`. Cada objeto tiene su propio conjunto de atributos (`nombre` y `edad`), lo que permite que se almacene y maneje información distinta para cada persona."
      ]
    },
    {
      "cell_type": "markdown",
      "metadata": {
        "id": "0b9XM2WWcX23"
      },
      "source": [
        "## <a id='toc1_4_'></a>[Metodología de la POO](#toc0_)\n",
        "\n",
        "La POO se estructura en torno a cuatro pilares fundamentales: **Encapsulamiento**, **Abstracción**,  **Herencia**, y **Polimorfismo**.\n",
        "\n",
        "<center>\n",
        "<img src=\"https://miro.medium.com/v2/resize:fit:720/format:webp/0*GQCVlaNMkJQXWF8C.png\" width=70% align=\"center\">\n",
        "</center>\n",
        "\n",
        "Imagen tomada de [What is OOP (Object Oriented Programming)?](https://medium.com/@rafaelmammadov/what-is-oop-dc36c8bce775).\n",
        "\n",
        "A continuación, se describe cada pilar acompañado de ejemplos en Java."
      ]
    },
    {
      "cell_type": "markdown",
      "metadata": {
        "id": "Ki4YMrVBcX23"
      },
      "source": [
        "### <a id='toc1_4_2_'></a>[**Encapsulamiento**](#toc0_)\n",
        "\n",
        "El encapsulamiento es la práctica de agrupar datos (atributos) y comportamientos (métodos) en una sola unidad llamada clase, y restringir el acceso a ciertos detalles de implementación desde el exterior. Esto se logra mediante modificadores de acceso como `private`, `protected`, y `public`."
      ]
    },
    {
      "cell_type": "code",
      "execution_count": 14,
      "metadata": {
        "vscode": {
          "languageId": "java"
        },
        "id": "bSUtRCvncX23",
        "outputId": "55a9e797-ed8b-4739-cf30-030f90de49c3",
        "colab": {
          "base_uri": "https://localhost:8080/"
        }
      },
      "outputs": [
        {
          "output_type": "stream",
          "name": "stdout",
          "text": [
            "100000.0\n",
            "Saldo después de retirar 80000: 20000.0\n"
          ]
        }
      ],
      "source": [
        "public class CuentaBancaria {\n",
        "  private double saldo;\n",
        "\n",
        "  public CuentaBancaria(double saldoInicial) {\n",
        "      this.saldo = saldoInicial;\n",
        "\n",
        "  }\n",
        "\n",
        "  public void depositar(double cantidad) {\n",
        "      if (cantidad > 0) {\n",
        "          saldo += cantidad;\n",
        "\n",
        "      }\n",
        "  }\n",
        "\n",
        "  public void retirar(double cantidad) {\n",
        "      if (cantidad > 0 && cantidad <= saldo) {\n",
        "          saldo -= cantidad;\n",
        "\n",
        "      }\n",
        "  }\n",
        "\n",
        "  public double getSaldo() {\n",
        "      return saldo;\n",
        "  }\n",
        "}\n",
        "\n",
        "CuentaBancaria bancolombia = new CuentaBancaria(100000);\n",
        "bancolombia.getSaldo();\n",
        "System.out.println(bancolombia.getSaldo());\n",
        "bancolombia.retirar(80000);\n",
        "System.out.println(\"Saldo después de retirar 80000: \" + bancolombia.getSaldo());\n",
        "\n",
        "// Crea un objeto de la clase CuentaBancaria y prueba sus atributos y métodos.\n",
        "// Si es necesario agrega más código a la clase"
      ]
    },
    {
      "cell_type": "markdown",
      "metadata": {
        "id": "zDEx8LjycX24"
      },
      "source": [
        "En este ejemplo, el atributo `saldo` está encapsulado dentro de la clase `CuentaBancaria`, lo que impide que sea modificado directamente desde fuera de la clase. Los métodos `depositar`, `retirar`, y `getSaldo` proporcionan una interfaz controlada para interactuar con el saldo."
      ]
    },
    {
      "cell_type": "markdown",
      "metadata": {
        "id": "5keGCX0RcX24"
      },
      "source": [
        "### <a id='toc1_4_3_'></a>[**Herencia**](#toc0_)\n",
        "\n",
        "La herencia permite crear una nueva clase basada en una clase existente. La nueva clase (subclase) hereda atributos y métodos de la clase existente (superclase), lo que facilita la reutilización de código y la creación de jerarquías."
      ]
    },
    {
      "cell_type": "code",
      "execution_count": null,
      "metadata": {
        "vscode": {
          "languageId": "java"
        },
        "id": "VxxeSSfVcX24",
        "outputId": "82e561d6-5e66-47b5-ce0c-1ed82829a2fe",
        "colab": {
          "base_uri": "https://localhost:8080/"
        }
      },
      "outputs": [
        {
          "output_type": "stream",
          "name": "stdout",
          "text": [
            "Nombre: Andres Molina, Edad: 28\n",
            "Carrera: Ingenieria Sistemas\n"
          ]
        }
      ],
      "source": [
        "public class Persona {\n",
        "    private String nombre;\n",
        "    private int edad;\n",
        "\n",
        "    public Persona(String nombre, int edad) {\n",
        "        this.nombre = nombre;\n",
        "        this.edad = edad;\n",
        "        // Agrega 2 atributos más y modifica el constructor\n",
        "\n",
        "    }\n",
        "\n",
        "    public void mostrarInformacion() {\n",
        "        // Actualiza el código para que muestre todos los atributos\n",
        "        System.out.println(\"Nombre: \" + nombre + \", Edad: \" + edad);\n",
        "    }\n",
        "}\n",
        "\n",
        "public class Estudiante extends Persona {\n",
        "    private String carrera;\n",
        "\n",
        "    public Estudiante(String nombre, int edad, String carrera) {\n",
        "        super(nombre, edad);\n",
        "        this.carrera = carrera;\n",
        "        // Agrega 2 atributos más y modifica el constructor\n",
        "\n",
        "    }\n",
        "\n",
        "    public void mostrarInformacion() {\n",
        "        // Actualiza el código para que muestre todos los atributos\n",
        "        super.mostrarInformacion();\n",
        "        System.out.println(\"Carrera: \" + carrera);\n",
        "    }\n",
        "\n",
        "}\n",
        "\n",
        "Estudiante andres = new Estudiante(\"Andres Molina\", 28 , \"Ingenieria Sistemas\");\n",
        "andres.mostrarInformacion();\n",
        "\n",
        "// Crea un objeto de la clase Estudiante y pasale los datos necesarios.\n",
        "\n",
        "// Ejecuta el método que muestra toda su información\n"
      ]
    },
    {
      "cell_type": "markdown",
      "metadata": {
        "id": "YoeA5gTtcX24"
      },
      "source": [
        "  En este ejemplo, la clase `Estudiante` hereda los atributos `nombre` y `edad` de la clase `Persona` y añade el atributo `carrera`. Además, sobrescribe el método `mostrarInformacion()` para añadir información adicional sobre la carrera del estudiante."
      ]
    },
    {
      "cell_type": "markdown",
      "metadata": {
        "id": "BvJC4b_wcX24"
      },
      "source": [
        "### <a id='toc1_4_4_'></a>[**Polimorfismo**](#toc0_)\n",
        "\n",
        "El polimorfismo permite que objetos de diferentes clases sean tratados como objetos de una clase común, generalmente a través de una referencia de la superclase o una interfaz. Esto significa que un mismo método puede comportarse de diferentes maneras según el objeto que lo invoque."
      ]
    },
    {
      "cell_type": "code",
      "execution_count": null,
      "metadata": {
        "vscode": {
          "languageId": "java"
        },
        "id": "pOqMaKZscX24",
        "outputId": "a9a25f22-b9a4-48aa-97af-cad719be5588",
        "colab": {
          "base_uri": "https://localhost:8080/"
        }
      },
      "outputs": [
        {
          "output_type": "stream",
          "name": "stdout",
          "text": [
            "El animal hace un sonido\n",
            "Guauuuu\n",
            "Miauuu\n"
          ]
        }
      ],
      "source": [
        "class Animal {\n",
        "    public void hacerSonido() {\n",
        "        System.out.println(\"El animal hace un sonido\");\n",
        "    }\n",
        "}\n",
        "\n",
        "class Perro extends Animal {\n",
        "    @Override\n",
        "    public void hacerSonido() {\n",
        "        System.out.println(\"Guauuuu\");\n",
        "    }\n",
        "}\n",
        "\n",
        "class Gato extends Animal {\n",
        "    @Override\n",
        "    public void hacerSonido() {\n",
        "        System.out.println(\"Miauuu\");\n",
        "    }\n",
        "}\n",
        "\n",
        "// Crea otra clase de tu animal favorito que extienda la clase Animal\n",
        "\n",
        "public class TestPolimorfismo {\n",
        "    public static void main(String[] args) {\n",
        "        Animal miAnimal = new Animal();\n",
        "        Animal miPerro = new Perro();\n",
        "        Animal miGato = new Gato();\n",
        "        // Define el objeto que agregaste\n",
        "\n",
        "\n",
        "        miAnimal.hacerSonido(); // El animal hace un sonido\n",
        "        miPerro.hacerSonido();  // El perro ladra\n",
        "        miGato.hacerSonido();   // El gato maúlla\n",
        "        // Prueba el sonido de tu animal\n",
        "\n",
        "    }\n",
        "}\n",
        "\n",
        "TestPolimorfismo prueba = new TestPolimorfismo();\n",
        "prueba.main(new String[] {});\n",
        "\n",
        "// Crea un objeto de la clase TestPolimorfismo y llama el método main"
      ]
    },
    {
      "cell_type": "markdown",
      "metadata": {
        "id": "O1kVEjMIcX25"
      },
      "source": [
        "En este ejemplo, `Perro` y `Gato` son subclases de `Animal`, y ambas sobrescriben el método `hacerSonido()`. Gracias al polimorfismo, la referencia de tipo `Animal` puede apuntar a objetos de tipo `Perro` o `Gato`, y el método `hacerSonido()` se ejecuta de acuerdo con el tipo real del objeto."
      ]
    },
    {
      "cell_type": "markdown",
      "metadata": {
        "id": "ovZCF8N8cX23"
      },
      "source": [
        "### <a id='toc1_4_1_'></a>[**Abstracción**](#toc0_)\n",
        "\n",
        "La abstracción se refiere a la capacidad de enfocarse en los aspectos esenciales de una entidad mientras se ocultan los detalles complejos. Esto permite trabajar con conceptos de alto nivel sin preocuparse por los detalles de implementación."
      ]
    },
    {
      "cell_type": "code",
      "execution_count": null,
      "metadata": {
        "vscode": {
          "languageId": "java"
        },
        "id": "webHE9L_cX23",
        "colab": {
          "base_uri": "https://localhost:8080/"
        },
        "outputId": "f0bd5bc1-9a74-41d9-ca4a-4dec25d3ab51"
      },
      "outputs": [
        {
          "output_type": "stream",
          "name": "stdout",
          "text": [
            "El perimetro del circulo es : 62.83185307179586\n",
            "El area del circulo es : 314.1592653589793\n",
            "El area del Rectangulo es: 50.0\n",
            "El perimetro del Rectangulo es: 30.0\n"
          ]
        }
      ],
      "source": [
        "abstract class Figura {\n",
        "    abstract double calcularArea(); // Método abstracto, sin implementación\n",
        "    abstract double calcularPerimetro();\n",
        "    // Agrega un método abstracto que calcule el perímetro\n",
        "\n",
        "}\n",
        "\n",
        "class Circulo extends Figura {\n",
        "    private double radio;\n",
        "\n",
        "    public Circulo(double radio) {\n",
        "        this.radio = radio;\n",
        "    }\n",
        "\n",
        "    @Override\n",
        "    double calcularArea() {\n",
        "        return Math.PI * radio * radio;\n",
        "    }\n",
        "\n",
        "    @Override\n",
        "    double calcularPerimetro() {\n",
        "      return 2*Math.PI*radio;\n",
        "    }\n",
        "    // Implementa el método que calcula el perímetro\n",
        "\n",
        "}\n",
        "\n",
        "class Rectangulo extends Figura {\n",
        "    private double ancho;\n",
        "    private double alto;\n",
        "\n",
        "    public Rectangulo(double ancho, double alto) {\n",
        "        this.ancho = ancho;\n",
        "        this.alto = alto;\n",
        "    }\n",
        "\n",
        "    @Override\n",
        "    double calcularArea() {\n",
        "        return ancho * alto;\n",
        "    }\n",
        "\n",
        "     @Override\n",
        "    double calcularPerimetro() {\n",
        "      return 2* ancho + 2 * alto;\n",
        "    }\n",
        "\n",
        "    // Implementa el método que calcula el perímetro\n",
        "\n",
        "}\n",
        "\n",
        "Circulo uno = new Circulo(10);\n",
        "uno.calcularPerimetro();\n",
        "uno.calcularArea();\n",
        "System.out.println(\"El perimetro del circulo es : \"+uno.calcularPerimetro());\n",
        "System.out.println(\"El area del circulo es : \"+uno.calcularArea());\n",
        "\n",
        "Rectangulo dos = new Rectangulo(5,10);\n",
        "dos.calcularPerimetro();\n",
        "dos.calcularArea();\n",
        "System.out.println(\"El area del Rectangulo es: \"+dos.calcularArea());\n",
        "System.out.println(\"El perimetro del Rectangulo es: \"+dos.calcularPerimetro());\n",
        "// Implementa una clase para los triángulos que extienda la clase figura\n",
        "\n",
        "\n",
        "// Prueba las tres clases y sus métodos"
      ]
    },
    {
      "cell_type": "markdown",
      "metadata": {
        "id": "793IcsdtcX23"
      },
      "source": [
        "En este ejemplo, la clase abstracta `Figura` define un método abstracto `calcularArea()`, que debe ser implementado por cualquier subclase como `Circulo` y `Rectangulo`. Esto permite trabajar con el concepto general de una \"figura\" sin conocer los detalles específicos de su forma."
      ]
    },
    {
      "cell_type": "markdown",
      "metadata": {
        "id": "bmj4Kj7fcX25"
      },
      "source": [
        "## <a id='toc1_5_'></a>[Ejemplos Prácticos y Ejercicios](#toc0_)\n",
        "\n",
        "1. **Ejercicio 1: Creación de Clases y Objetos**\n",
        "   \n",
        "- Crear una clase para algo que te guste mucho (película, carros, motos, anime, música, etc) y agrega al menos 5 atributos relacionados. Implementar métodos para establecer y obtener estos valores.\n"
      ]
    },
    {
      "cell_type": "code",
      "execution_count": 200,
      "metadata": {
        "vscode": {
          "languageId": "java"
        },
        "id": "7nopX872cX25"
      },
      "outputs": [],
      "source": [
        "class Peliculas {\n",
        "    public String genero;\n",
        "    public String calidad;\n",
        "    public double calificacion;\n",
        "    public String duracion;\n",
        "    public String plataforma;\n",
        "    public String nombre;\n",
        "\n",
        "    public Peliculas (String nombre,String genero, String calidad, double calificacion, String duracion, String plataforma){\n",
        "        this.nombre = nombre;\n",
        "        this.genero = genero;\n",
        "        this.calidad = calidad;\n",
        "        this.calificacion = calificacion;\n",
        "        this.duracion = duracion;\n",
        "        this.plataforma = plataforma;\n",
        "\n",
        "\n",
        "        }\n",
        "\n",
        "           public void mostrarInformacion() {\n",
        "\n",
        "        System.out.println(\"Nombre: \" + nombre + \", Genero: \" + genero +  \", Calidad: \" + calidad + \", Calificacion: \" + calificacion +\", Duracion: \" + duracion + \", Plataforma: \" +plataforma  );\n",
        "    }\n",
        "    }\n",
        "\n",
        "\n",
        "\n"
      ]
    },
    {
      "cell_type": "markdown",
      "metadata": {
        "id": "vijrTqFocX25"
      },
      "source": [
        "   - Crear una subclase que herede de los atributos y métodos de la clase creada anteriormente. Además, añada un método que imprima un mensaje utilizando los atributos definidos."
      ]
    },
    {
      "cell_type": "code",
      "execution_count": 202,
      "metadata": {
        "vscode": {
          "languageId": "java"
        },
        "id": "nHbz95xpcX25",
        "colab": {
          "base_uri": "https://localhost:8080/"
        },
        "outputId": "58976554-74c6-4882-f01c-49d2fa3a07a3"
      },
      "outputs": [
        {
          "output_type": "stream",
          "name": "stdout",
          "text": [
            "Nombre: HarryPoter1, Genero: fantasia, Calidad: FullHD, Calificacion: 5.0, Duracion: 2 horas, Plataforma: HBO MAX\n"
          ]
        }
      ],
      "source": [
        "class HarryPotter extends Peliculas{\n",
        "\n",
        "  public HarryPotter(String nombre,String genero, String calidad, double calificacion, String duracion, String plataforma){\n",
        "\n",
        "    super(nombre,genero,calidad,calificacion,duracion,plataforma);\n",
        "\n",
        "\n",
        "  }\n",
        "\n",
        "\n",
        "    public void mostrarInformacion() {\n",
        "        super.mostrarInformacion();\n",
        "    }\n",
        "}\n",
        "\n",
        "HarryPotter uno = new HarryPotter(\"HarryPoter1\",\"fantasia\",\"FullHD\",5,\"2 horas\",\"HBO MAX\");\n",
        "uno.mostrarInformacion();"
      ]
    },
    {
      "cell_type": "markdown",
      "metadata": {
        "id": "LSRAZhNDcX26"
      },
      "source": [
        "2. **Ejercicio 2: Uso de Herencia y Polimorfismo**\n",
        "   \n",
        "- Crear la clase `Licores` con un al menos 5 atributos y dos métodos: uno debe ser `PrecioPorPersona(NoPersonas)` y otro que inventes."
      ]
    },
    {
      "cell_type": "code",
      "execution_count": 197,
      "metadata": {
        "vscode": {
          "languageId": "java"
        },
        "id": "4C_zVTrWcX26",
        "colab": {
          "base_uri": "https://localhost:8080/"
        },
        "outputId": "a6cfeafb-dd94-4e4c-db84-12fd85c17c92"
      },
      "outputs": [
        {
          "output_type": "stream",
          "name": "stdout",
          "text": [
            "Cada uno les toca de a $: 150000.0\n",
            "true\n",
            "Nombre: Caldas, Tipo:  Ron, Embase:  Botella de Vidrio, Precio: 150000.00, Grados de alcohol: 27.00\n"
          ]
        }
      ],
      "source": [
        "class Licores{\n",
        "\n",
        "  public String nombre;\n",
        "  public String tipo;\n",
        "  public String embase;\n",
        "  public double precio;\n",
        "  public double grados_de_alcohol;\n",
        "\n",
        "  public Licores(String nombre, String tipo, String embase, double precio, double grados_de_alcohol) {\n",
        "        this.nombre = nombre;\n",
        "        this.tipo = tipo;\n",
        "        this.embase = embase;\n",
        "        this.precio = precio;\n",
        "        this.grados_de_alcohol = grados_de_alcohol;\n",
        "    }\n",
        "\n",
        "    public double PrecioPorPersona(int Num_Personas) {\n",
        "        if (Num_Personas > 0) {\n",
        "            return precio/Num_Personas;\n",
        "        } else {\n",
        "            return 0;\n",
        "        }\n",
        "\n",
        "    }\n",
        "\n",
        "    public boolean esFuerte() {\n",
        "        return grados_de_alcohol > 25.0;\n",
        "    }\n",
        "\n",
        "\n",
        "    public void mostrarInformacion() {\n",
        "    System.out.printf(\"Nombre: %s, Tipo: %s, Embase: %s, Precio: %.2f, Grados de alcohol: %.2f%n\", nombre, tipo, embase, precio, grados_de_alcohol);\n",
        "\n",
        "         }\n",
        "\n",
        "\n",
        "}\n",
        "\n",
        "Licores ron = new Licores(\"Caldas\",\" Ron\",\" Botella de Vidrio\",150000,27);\n",
        "ron.PrecioPorPersona(1);\n",
        "System.out.println(\"Cada uno les toca de a $: \"+ron.PrecioPorPersona(1));\n",
        "ron.esFuerte();\n",
        "System.out.println(ron.esFuerte());\n",
        "ron.mostrarInformacion();\n",
        "\n"
      ]
    },
    {
      "cell_type": "markdown",
      "metadata": {
        "id": "fQx-5zVEcX26"
      },
      "source": [
        "   - Crear 3 clases derivadas: `Pola`, `Rones`, y otra que te guste, tales  que sobrescriban los método `PrecioPorPersona(NoPersonas)` y el que agregaste. Implementar una clase de prueba para demostrar el polimorfismo."
      ]
    },
    {
      "cell_type": "code",
      "execution_count": 262,
      "metadata": {
        "vscode": {
          "languageId": "java"
        },
        "id": "UGxLjvQgcX26",
        "colab": {
          "base_uri": "https://localhost:8080/"
        },
        "outputId": "e665fc0a-d486-40af-9766-36977d682bc2"
      },
      "outputs": [
        {
          "output_type": "stream",
          "name": "stdout",
          "text": [
            "Cada uno les toca de a $: 1500.0\n",
            "false\n",
            "Nombre: Poker, Tipo: Cerveza, Embase: Vidrio, Precio: 3000.00, Grados de alcohol: 6.00\n",
            "\n",
            "Cada uno les toca de a $: 75000.0\n",
            "true\n",
            "Nombre: Caldas, Tipo:  Ron, Embase:  Botella de Vidrio, Precio: 150000.00, Grados de alcohol: 27.00\n",
            "\n",
            "Cada uno les toca de a $: 45000.0\n",
            "true\n",
            "Nombre: Nectar Rojo, Tipo:  Aguardiente, Embase:  Botella de Vidrio, Precio: 90000.00, Grados de alcohol: 38.00\n"
          ]
        }
      ],
      "source": [
        "class Pola extends Licores{\n",
        "\n",
        "\n",
        "  public Pola(String nombre, String tipo, String embase, double precio, double grados_de_alcohol) {\n",
        "        super(nombre, tipo, embase, precio, grados_de_alcohol);\n",
        "    }\n",
        "\n",
        "  @Override\n",
        "  public double PrecioPorPersona(int Num_Personas){\n",
        "    return super.PrecioPorPersona(Num_Personas);\n",
        "  }\n",
        "\n",
        "  @Override\n",
        "  public boolean esFuerte() {\n",
        "    return super.esFuerte();\n",
        "    }\n",
        "\n",
        "\n",
        "}\n",
        "\n",
        "class Ron extends Licores{\n",
        "\n",
        "\n",
        "  public Ron(String nombre, String tipo, String embase, double precio, double grados_de_alcohol) {\n",
        "        super(nombre, tipo, embase, precio, grados_de_alcohol);\n",
        "    }\n",
        "\n",
        "  @Override\n",
        "  public double PrecioPorPersona(int Num_Personas){\n",
        "    return super.PrecioPorPersona(Num_Personas);\n",
        "  }\n",
        "\n",
        "  @Override\n",
        "  public boolean esFuerte() {\n",
        "    return super.esFuerte();\n",
        "    }\n",
        "\n",
        "    }\n",
        "\n",
        "    class Aguardiente extends Licores{\n",
        "\n",
        "\n",
        "  public Aguardiente(String nombre, String tipo, String embase, double precio, double grados_de_alcohol) {\n",
        "        super(nombre, tipo, embase, precio, grados_de_alcohol);\n",
        "    }\n",
        "\n",
        "  @Override\n",
        "  public double PrecioPorPersona(int Num_Personas){\n",
        "    return super.PrecioPorPersona(Num_Personas);\n",
        "  }\n",
        "\n",
        "  @Override\n",
        "  public boolean esFuerte() {\n",
        "    return super.esFuerte();\n",
        "    }\n",
        "    }\n",
        "\n",
        "Pola poker = new Pola(\"Poker\",\"Cerveza\",\"Vidrio\",3000,6);\n",
        "poker.PrecioPorPersona(2);\n",
        "System.out.println(\"Cada uno les toca de a $: \"+poker.PrecioPorPersona(2));\n",
        "poker.esFuerte();\n",
        "System.out.println(poker.esFuerte());\n",
        "poker.mostrarInformacion();\n",
        "\n",
        "System.out.println(\"\");\n",
        "\n",
        "Ron Caldas = new Ron(\"Caldas\",\" Ron\",\" Botella de Vidrio\",150000,27);\n",
        "Caldas.PrecioPorPersona(2);\n",
        "System.out.println(\"Cada uno les toca de a $: \"+Caldas.PrecioPorPersona(2));\n",
        "Caldas.esFuerte();\n",
        "System.out.println(Caldas.esFuerte());\n",
        "Caldas.mostrarInformacion();\n",
        "\n",
        "System.out.println(\"\");\n",
        "\n",
        "Aguardiente Nectar = new Aguardiente(\"Nectar Rojo\",\" Aguardiente\",\" Botella de Vidrio\",90000,38);\n",
        "Nectar.PrecioPorPersona(2);\n",
        "System.out.println(\"Cada uno les toca de a $: \"+Nectar.PrecioPorPersona(2));\n",
        "Nectar.esFuerte();\n",
        "System.out.println(Nectar.esFuerte());\n",
        "Nectar.mostrarInformacion();\n"
      ]
    },
    {
      "cell_type": "markdown",
      "metadata": {
        "id": "PjZER9MfcX26"
      },
      "source": [
        "## <a id='toc1_6_'></a>[Referencias](#toc0_)\n",
        "\n",
        "#### <a id='toc1_6_1_1_'></a>[Guías y Tutoriales](#toc0_)\n",
        "  - [Guía oficial de Oracle sobre Programación Orientada a Objetos en Java](https://docs.oracle.com/javase/tutorial/java/concepts/index.html)\n",
        "  - [Tutorial sobre POO en Java de GeeksforGeeks](https://www.geeksforgeeks.org/object-oriented-programming-oops-concept-in-java/)\n",
        "\n",
        "#### <a id='toc1_6_1_2_'></a>[Libros](#toc0_)\n",
        "\n",
        "- Y. Daniel Liang. *\"Introduction to Java Programming and Data Structures, Comprehensive Version\"*. Addison Wesley. Edición 12 (2019). Capítulo 1 y 9.\n",
        "- Koffman, Elliot B.; Wolfgang, Paul A. T.\"*Data structures : abstraction and design using Java\"*. Wiley. Tercera edición (2016). Capítulo 2.5, página 101.\n",
        "- James T. Streib,Takako Soma. *\"Guide to Data Structures: A Concise Introduction Using Java\"*. Springer International Publishing. Primera edición (2017). Capítulo 5, página 120.\n",
        "\n",
        "#### <a id='toc1_6_1_3_'></a>[Repositorios](#toc0_)\n",
        "\n",
        "- [Intro-to-Java-Programming](https://github.com/jsquared21/Intro-to-Java-Programming)\n",
        "\n",
        "\n",
        "#### <a id='toc1_6_1_4_'></a>[Videos](#toc0_)\n",
        "\n",
        "- [Java Tutorial for Beginners ](https://www.youtube.com/watch?v=eIrMbAQSU34)\n",
        "- [Learn Java in One Video - 15-minute Crash Course ](https://www.youtube.com/watch?v=drQK8ciCAjY)\n",
        "- [Java Roadmap for 2024 ](https://www.youtube.com/watch?v=fO9HN3nvDLI)\n",
        "- [Java Tutorial for Beginners 2023 ](https://www.youtube.com/watch?v=BGTx91t8q50)"
      ]
    }
  ],
  "metadata": {
    "kernelspec": {
      "display_name": "Java",
      "language": "java",
      "name": "java"
    },
    "language_info": {
      "codemirror_mode": "java",
      "file_extension": ".jshell",
      "mimetype": "text/x-java-source",
      "name": "Java",
      "pygments_lexer": "java",
      "version": "21.0.4+7-Ubuntu-1ubuntu224.04"
    },
    "colab": {
      "provenance": []
    }
  },
  "nbformat": 4,
  "nbformat_minor": 0
}