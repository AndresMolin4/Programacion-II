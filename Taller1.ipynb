{
  "nbformat": 4,
  "nbformat_minor": 0,
  "metadata": {
    "colab": {
      "provenance": []
    },
    "kernelspec": {
      "name": "java",
      "display_name": "Java"
    }
  },
  "cells": [
    {
      "cell_type": "code",
      "execution_count": 1,
      "metadata": {
        "colab": {
          "base_uri": "https://localhost:8080/"
        },
        "id": "Q4DkaPsOx_3F",
        "outputId": "b8dea05d-58b7-4a65-a167-dc82c5058ed8"
      },
      "outputs": [
        {
          "output_type": "stream",
          "name": "stdout",
          "text": [
            "Installed java kernel into \"/usr/local/share/jupyter/kernels/java\"\n",
            "e2732061ad19c1afa4a33a58cb8f18a9-b6cff2bf09b6832344e576ea1e4731f0fb3df10c/install_ipc_proxy_kernel.py\n",
            "e2732061ad19c1afa4a33a58cb8f18a9-b6cff2bf09b6832344e576ea1e4731f0fb3df10c/ipc_proxy_kernel.py\n",
            "Moving java kernel from /usr/local/share/jupyter/kernels/java...\n",
            "Wrote modified kernel.json for java_tcp in /usr/local/share/jupyter/kernels/java_tcp/kernel.json\n",
            "Installing the proxy kernel in place of java in /usr/local/share/jupyter/kernels/java\n",
            "Installed proxy kernelspec: {\"argv\": [\"/usr/bin/python3\", \"/usr/local/share/jupyter/kernels/java/ipc_proxy_kernel.py\", \"{connection_file}\", \"--kernel=java_tcp\"], \"env\": {}, \"display_name\": \"Java\", \"language\": \"java\", \"interrupt_mode\": \"message\", \"metadata\": {}}\n",
            "Proxy kernel installed. Go to 'Runtime > Change runtime type' and select 'java'\n"
          ]
        },
        {
          "output_type": "stream",
          "name": "stderr",
          "text": [
            "/content/install.py:164: DeprecationWarning: replace is ignored. Installing a kernelspec always replaces an existing installation\n",
            "  install_dest = KernelSpecManager().install_kernel_spec(\n"
          ]
        }
      ],
      "source": [
        "%%sh\n",
        "# Install java kernel\n",
        "wget -q https://github.com/SpencerPark/IJava/releases/download/v1.3.0/ijava-1.3.0.zip\n",
        "unzip -q ijava-1.3.0.zip\n",
        "python install.py\n",
        "\n",
        "# Install proxy for the java kernel\n",
        "wget -qO- https://gist.github.com/SpencerPark/e2732061ad19c1afa4a33a58cb8f18a9/archive/b6cff2bf09b6832344e576ea1e4731f0fb3df10c.tar.gz | tar xvz --strip-components=1\n",
        "python install_ipc_proxy_kernel.py --kernel=java --implementation=ipc_proxy_kernel.py"
      ]
    },
    {
      "cell_type": "markdown",
      "source": [
        "Punto1"
      ],
      "metadata": {
        "id": "Qe7jYlUcyDtW"
      }
    },
    {
      "cell_type": "code",
      "source": [
        "//1.Crea un Notebook en VSC con el kernel de java donde se muestren las operaciones entre caracteres, cuerdas (cadena), y números\n",
        "//  (int, float, double, etc). Además agrega el código de la clase \"HelloWorld\" que ya hemos creado pero personaliza el texto.\n",
        "//  Deben ser por lo menos 7 ejemplos.\n",
        "\n",
        "  String español= \"hola mundo\";\n",
        "  String ingles= \"hello world\";\n",
        "  String griego= \"γεια σου κόσμε\";\n",
        "  String albanes= \"pershendetje bote\";\n",
        "  String italiano= \"Ciao mondo\";\n",
        "  String portugues= \"olá mundo\";\n",
        "  String frances= \"Bonjour le monde\";\n",
        "\n",
        "  System.out.println(\"presentare en diferentes idiomas la frase HOLA MUNDO\");\n",
        "  System.out.println(\"español: \"+español);\n",
        "  System.out.println(\"ingles: \"+ingles);\n",
        "  System.out.println(\"griego: \"+griego);\n",
        "  System.out.println(\"albanes: \"+albanes);\n",
        "  System.out.println(\"italiano: \"+italiano);\n",
        "  System.out.println(\"portugues: \"+portugues);\n",
        "  System.out.println(\"frances: \"+frances);"
      ],
      "metadata": {
        "colab": {
          "base_uri": "https://localhost:8080/"
        },
        "id": "J8RFs2yuyE_2",
        "outputId": "db839c2c-299c-4f83-c431-c1f564d944cc"
      },
      "execution_count": 91,
      "outputs": [
        {
          "output_type": "stream",
          "name": "stdout",
          "text": [
            "presentare en diferentes idiomas la frase HOLA MUNDO\n",
            "español: hola mundo\n",
            "ingles: hello world\n",
            "griego: γεια σου κόσμε\n",
            "albanes: pershendetje bote\n",
            "italiano: Ciao mondo\n",
            "portugues: olá mundo\n",
            "frances: Bonjour le monde\n"
          ]
        }
      ]
    },
    {
      "cell_type": "markdown",
      "source": [
        "Punto 2"
      ],
      "metadata": {
        "id": "LrfI2pV2ykWy"
      }
    },
    {
      "cell_type": "code",
      "source": [
        "//2.Utilizando el código del punto anterior, crea una clase (asígnale un nombre diferente) donde se imprime por lo menos 7 variables\n",
        "//  con los ejemplos del primer punto.\n",
        "\n",
        "        int a = 3;\n",
        "        int b = 5;\n",
        "\n",
        "        System.out.println(\"La multiplicacion entre \" + a + \" y \" + b + \" es: \" + (a * b));\n",
        "        System.out.println(\"La suma entre \" + a + \" y \" + b + \" es: \" + a + b);\n",
        "        System.out.println(\"La resta entre \" + a + \" y \" + b + \" es: \" + (a - b));\n",
        "        System.out.println(\"La division entre \" + a + \" y \" + b + \" es: \" + (a / b));\n",
        "        System.out.println(\"El exponente de \" + a + \" elevado a \" + b + \" es: \" + Math.pow(a, b));\n",
        "        System.out.println(\"El logaritmo de \" + a + \" en base a \" + b + \" es: \" + (Math.log(a) / Math.log(b)));\n",
        "        System.out.println(\"El porcentaje de \" + a + \" respecto a \" + b + \"es: \" + ( a / b * 100) + \"%\");"
      ],
      "metadata": {
        "colab": {
          "base_uri": "https://localhost:8080/"
        },
        "id": "4yfQoeLWyl2n",
        "outputId": "13a0f3ac-f3b4-43df-e8f2-9ad42b8f491f"
      },
      "execution_count": 93,
      "outputs": [
        {
          "output_type": "stream",
          "name": "stdout",
          "text": [
            "La multiplicacion entre 3 y 5 es: 15\n",
            "La suma entre 3 y 5 es: 35\n",
            "La resta entre 3 y 5 es: -2\n",
            "La division entre 3 y 5 es: 0\n",
            "El exponente de 3 elevado a 5 es: 243.0\n",
            "El logaritmo de 3 en base a 5 es: 0.6826061944859854\n",
            "El porcentaje de 3 respecto a 5es: 0%\n"
          ]
        }
      ]
    },
    {
      "cell_type": "markdown",
      "source": [
        "Punto 3"
      ],
      "metadata": {
        "id": "e-UZ0-n3ymEv"
      }
    },
    {
      "cell_type": "code",
      "source": [
        "//3.Crea una clase llamada Porcentaje que dado un número entero imprime el número con signo de porcentaje\n",
        "//  seguido de la misma cantidad de símbolos #, es decir, dado el número 27 la clase debe imprimir:\n",
        "\n",
        "        int Porcentaje1 = 35;\n",
        "        int Porcentaje2 = 51;\n",
        "\n",
        "        Porcentaje(Porcentaje1);\n",
        "        Porcentaje(Porcentaje2);\n",
        "\n",
        "\n",
        "    public static void Porcentaje(int numero) {\n",
        "        System.out.print(numero + \"%: \");\n",
        "        for (int i = 0; i < numero; i++) {\n",
        "            System.out.print(\"#\");\n",
        "        }\n",
        "        System.out.println();\n",
        "    }"
      ],
      "metadata": {
        "colab": {
          "base_uri": "https://localhost:8080/"
        },
        "id": "5JOWq3OE3lxO",
        "outputId": "3f70d60e-2c23-4934-e9fb-2606320bed61"
      },
      "execution_count": 104,
      "outputs": [
        {
          "output_type": "stream",
          "name": "stdout",
          "text": [
            "35%: ###################################\n",
            "51%: ###################################################\n"
          ]
        }
      ]
    },
    {
      "cell_type": "markdown",
      "source": [
        "Punto 4"
      ],
      "metadata": {
        "id": "Ec_EdN6PyniX"
      }
    },
    {
      "cell_type": "code",
      "source": [
        "//4.Resuelve el problema Fahrenheit a Celsius de CodeAbby . Agrega el código al cuaderno que soluciona el problema para un número.\n",
        "//  Opcional : Agrega un pantallazo de la imagen generada por CodeAbby al entregar el código que resuelve el problema,\n",
        "//  es decir, que pasan las pruebas de CodeAbby.\n",
        "\n",
        "\n",
        "        int[] celsius = {30, 496, 558, 474, 449, 390, 589, 583, 452, 592, 215, 127, 150, 77, 288, 446, 481, 403,\n",
        "                 91, 341, 114, 441, 566, 583, 523, 310, 395, 324, 435, 398, 239};\n",
        "\n",
        "        for (int i = 0; i < celsius.length; i++) {\n",
        "\n",
        "            int fahrenheit = (celsius[i] * 9 / 5) + 32;\n",
        "\n",
        "            System.out.println(celsius[i] + \" grados Celsius son equivalentes a \" + fahrenheit + \" grados Fahrenheit.\");\n",
        "        }"
      ],
      "metadata": {
        "colab": {
          "base_uri": "https://localhost:8080/"
        },
        "id": "EEALdTCyyo9f",
        "outputId": "f46a3843-1ad6-42e4-cb11-8cd60370d7de"
      },
      "execution_count": 107,
      "outputs": [
        {
          "output_type": "stream",
          "name": "stdout",
          "text": [
            "30 grados Celsius son equivalentes a 86 grados Fahrenheit.\n",
            "496 grados Celsius son equivalentes a 924 grados Fahrenheit.\n",
            "558 grados Celsius son equivalentes a 1036 grados Fahrenheit.\n",
            "474 grados Celsius son equivalentes a 885 grados Fahrenheit.\n",
            "449 grados Celsius son equivalentes a 840 grados Fahrenheit.\n",
            "390 grados Celsius son equivalentes a 734 grados Fahrenheit.\n",
            "589 grados Celsius son equivalentes a 1092 grados Fahrenheit.\n",
            "583 grados Celsius son equivalentes a 1081 grados Fahrenheit.\n",
            "452 grados Celsius son equivalentes a 845 grados Fahrenheit.\n",
            "592 grados Celsius son equivalentes a 1097 grados Fahrenheit.\n",
            "215 grados Celsius son equivalentes a 419 grados Fahrenheit.\n",
            "127 grados Celsius son equivalentes a 260 grados Fahrenheit.\n",
            "150 grados Celsius son equivalentes a 302 grados Fahrenheit.\n",
            "77 grados Celsius son equivalentes a 170 grados Fahrenheit.\n",
            "288 grados Celsius son equivalentes a 550 grados Fahrenheit.\n",
            "446 grados Celsius son equivalentes a 834 grados Fahrenheit.\n",
            "481 grados Celsius son equivalentes a 897 grados Fahrenheit.\n",
            "403 grados Celsius son equivalentes a 757 grados Fahrenheit.\n",
            "91 grados Celsius son equivalentes a 195 grados Fahrenheit.\n",
            "341 grados Celsius son equivalentes a 645 grados Fahrenheit.\n",
            "114 grados Celsius son equivalentes a 237 grados Fahrenheit.\n",
            "441 grados Celsius son equivalentes a 825 grados Fahrenheit.\n",
            "566 grados Celsius son equivalentes a 1050 grados Fahrenheit.\n",
            "583 grados Celsius son equivalentes a 1081 grados Fahrenheit.\n",
            "523 grados Celsius son equivalentes a 973 grados Fahrenheit.\n",
            "310 grados Celsius son equivalentes a 590 grados Fahrenheit.\n",
            "395 grados Celsius son equivalentes a 743 grados Fahrenheit.\n",
            "324 grados Celsius son equivalentes a 615 grados Fahrenheit.\n",
            "435 grados Celsius son equivalentes a 815 grados Fahrenheit.\n",
            "398 grados Celsius son equivalentes a 748 grados Fahrenheit.\n",
            "239 grados Celsius son equivalentes a 462 grados Fahrenheit.\n"
          ]
        }
      ]
    },
    {
      "cell_type": "markdown",
      "source": [
        "Punto 5\n"
      ],
      "metadata": {
        "id": "vgbc5zKeypNu"
      }
    },
    {
      "cell_type": "code",
      "source": [
        "// 5.Crea una clase llamada Impresiones donde se imprimen varias variables en diferentes formatos, utilizando el método Format()de Java.\n",
        "//   Revise las dos últimas referencias de guías y documentos. Escribe por lo menos 7 ejemplos.\n",
        "\n",
        "        int a = 42;\n",
        "        double b = 3.14159;\n",
        "        String nombre = \"Andres\";\n",
        "\n",
        "        System.out.printf(\"El numero entero es: %d\\n\", a);\n",
        "        System.out.printf(\"El numero decimal es: %.2f\\n\", b);\n",
        "        System.out.printf(\"El nombre es: %s\\n\", nombre);\n",
        "        System.out.printf(\"El numero en hexadecimal es: %x\\n\", a);\n",
        "        System.out.printf(\"El numero en octal es: %o\\n\", a);\n",
        "        System.out.printf(\"El nombre en mayusculas es: %S\\n\", nombre);\n",
        "        System.out.printf(\"El numero con signo positivo es: %+d\\n\", a);\n",
        "        System.out.printf(\"El numero con 10 decimas es: %.10f\\n\",b);\n",
        "        System.out.println(\"\");"
      ],
      "metadata": {
        "colab": {
          "base_uri": "https://localhost:8080/"
        },
        "id": "JjuYdBP9y5fe",
        "outputId": "83520780-946a-4039-dcb3-62883c35867d"
      },
      "execution_count": 116,
      "outputs": [
        {
          "output_type": "stream",
          "name": "stdout",
          "text": [
            "El numero entero es: 42\n",
            "El numero decimal es: 3.14\n",
            "El nombre es: Andres\n",
            "El numero en hexadecimal es: 2a\n",
            "El numero en octal es: 52\n",
            "El nombre en mayusculas es: ANDRES\n",
            "El numero con signo positivo es: +42\n",
            "El numero con 10 decimas es: 3.1415900000\n",
            "\n"
          ]
        }
      ]
    },
    {
      "cell_type": "markdown",
      "source": [
        "Adicional 1"
      ],
      "metadata": {
        "id": "CyZ3Ngle0GXa"
      }
    },
    {
      "cell_type": "code",
      "source": [
        "       int[] valores = { 12, 15, 17 ,23 , 26};\n",
        "       int suma = 0;\n",
        "\n",
        "       for(int i = 0; i < valores.length; i++){\n",
        "           suma += valores[i];\n",
        "       }\n",
        "       System.out.println(\"La suma de los valores dados es: \"+ suma);\n",
        "\n",
        "\n",
        "//problema 2 de CodeAbby =)"
      ],
      "metadata": {
        "colab": {
          "base_uri": "https://localhost:8080/"
        },
        "id": "ip87NGal0HsO",
        "outputId": "aeac9e6d-fc01-4153-d42c-b6d871953251"
      },
      "execution_count": 49,
      "outputs": [
        {
          "output_type": "stream",
          "name": "stdout",
          "text": [
            "La suma de los valores dados es: 93\n"
          ]
        }
      ]
    },
    {
      "cell_type": "markdown",
      "source": [
        "Adicional 2"
      ],
      "metadata": {
        "id": "WYeEQ03U0L-W"
      }
    },
    {
      "cell_type": "code",
      "source": [
        "double[] peso ={93.34,61.24,91,105,63.4,95.6,41.9,81.12};\n",
        "double[] altura={1.74,2.70,2.79,1.73,1.92,1.66,2.61,2.39};\n",
        "\n",
        "for (int i = 0; i< peso.length; i++){\n",
        "        double masacorporal=peso[i]/(altura[i]*altura[i]);\n",
        "   System.out.printf(\"Persona %d - Peso: %.2f kg, Altura: %.2f m, IMC: %.2f%n\", i + 1, peso[i], altura[i], masacorporal);\n",
        "}\n",
        "\n",
        "//Ejercicio 28 DE codeabby =)"
      ],
      "metadata": {
        "colab": {
          "base_uri": "https://localhost:8080/"
        },
        "id": "RCn0phhh0N1Q",
        "outputId": "06dbf9e9-8148-40b4-e457-1d99f804fbda"
      },
      "execution_count": 52,
      "outputs": [
        {
          "output_type": "stream",
          "name": "stdout",
          "text": [
            "Persona 1 - Peso: 93.34 kg, Altura: 1.74 m, IMC: 30.83\n",
            "Persona 2 - Peso: 61.24 kg, Altura: 2.70 m, IMC: 8.40\n",
            "Persona 3 - Peso: 91.00 kg, Altura: 2.79 m, IMC: 11.69\n",
            "Persona 4 - Peso: 105.00 kg, Altura: 1.73 m, IMC: 35.08\n",
            "Persona 5 - Peso: 63.40 kg, Altura: 1.92 m, IMC: 17.20\n",
            "Persona 6 - Peso: 95.60 kg, Altura: 1.66 m, IMC: 34.69\n",
            "Persona 7 - Peso: 41.90 kg, Altura: 2.61 m, IMC: 6.15\n",
            "Persona 8 - Peso: 81.12 kg, Altura: 2.39 m, IMC: 14.20\n"
          ]
        }
      ]
    }
  ]
}